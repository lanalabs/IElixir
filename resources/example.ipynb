{
 "cells": [
  {
   "cell_type": "markdown",
   "metadata": {},
   "source": [
    "## Rukh Jupyter setup"
   ]
  },
  {
   "cell_type": "code",
   "execution_count": 1,
   "metadata": {},
   "outputs": [
    {
     "data": {
      "text/plain": [
       ":\"jupyter-node@Dmitrys-MacBook-Pro\""
      ]
     },
     "execution_count": 1,
     "metadata": {},
     "output_type": "execute_result"
    }
   ],
   "source": [
    "node()"
   ]
  },
  {
   "cell_type": "code",
   "execution_count": null,
   "metadata": {},
   "outputs": [],
   "source": [
    "# in case of telemetry problems, remove the cached environment first\n",
    "# Boyle.rm(\"rukh_env\")\n",
    "Boyle.mk(\"rukh_env\")\n",
    "Boyle.activate(\"rukh_env\")\n",
    "Boyle.install({:rukh, path: \"/Users/lakret/work/lana-backend-scala/rukh\"})"
   ]
  },
  {
   "cell_type": "code",
   "execution_count": 4,
   "metadata": {},
   "outputs": [
    {
     "ename": "ArgumentError",
     "evalue": "1",
     "output_type": "error",
     "traceback": [
      "** (ArgumentError) \"could not fetch application environment Rukh.Remote for application :rukh because the application was not loaded/started. If your application depends on :rukh at runtime, make sure to load/start it or list it under :extra_applications in your mix.exs file\""
     ]
    }
   ],
   "source": [
    "import IEx.Helpers\n",
    "import Rukh.TSL\n",
    "import Rukh.TSL.Helpers\n",
    "\n",
    "Application\n",
    "Application.fetch_env!(:rukh, Rukh.Remote)\n",
    "\n",
    "# Application.put_env(\n",
    "#   :rukh, \n",
    "#   Rukh.Remote, \n",
    "#   [execution_mode: :remote, remote_node_name: \"rukh\", remote_node_hostname: nil], \n",
    "#   persistent: true\n",
    "# )"
   ]
  },
  {
   "cell_type": "markdown",
   "metadata": {},
   "source": [
    "## Let's try it"
   ]
  },
  {
   "cell_type": "code",
   "execution_count": null,
   "metadata": {},
   "outputs": [],
   "source": [
    "datasources()"
   ]
  },
  {
   "cell_type": "code",
   "execution_count": null,
   "metadata": {},
   "outputs": [],
   "source": [
    "preview (query do\n",
    "  select :*\n",
    "  from \"test_sales_process\"\n",
    "end)"
   ]
  },
  {
   "cell_type": "code",
   "execution_count": null,
   "metadata": {},
   "outputs": [],
   "source": [
    "h replace"
   ]
  },
  {
   "cell_type": "code",
   "execution_count": null,
   "metadata": {},
   "outputs": [],
   "source": [
    "c(\"../lana-backend-scala/rukh/priv/transformations/bertelsmann_tsl.exs\")"
   ]
  },
  {
   "cell_type": "code",
   "execution_count": null,
   "metadata": {},
   "outputs": [],
   "source": [
    "preview BertelsmannTSL.purchase_order_item_confirmation()"
   ]
  }
 ],
 "metadata": {
  "kernelspec": {
   "display_name": "Elixir",
   "language": "Elixir",
   "name": "ielixir"
  },
  "language_info": {
   "codemirror_mode": "elixir",
   "file_extension": "ex",
   "mimetype": "text/x-elixir",
   "name": "elixir",
   "nbconvert_exporter": "",
   "pygments_lexer": "elixir",
   "version": "1.9.1"
  }
 },
 "nbformat": 4,
 "nbformat_minor": 1
}
